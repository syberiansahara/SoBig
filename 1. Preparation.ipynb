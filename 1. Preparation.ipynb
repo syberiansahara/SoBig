{
 "cells": [
  {
   "cell_type": "markdown",
   "metadata": {},
   "source": [
    "## Data Extraction for Minnesota state (#27) and removing NA from numeric variables (SQL)"
   ]
  },
  {
   "cell_type": "markdown",
   "metadata": {},
   "source": [
    "create table lar\n",
    "(Loan_Type VARCHAR(20),\n",
    "Loan_Purpose VARCHAR(25),\n",
    "Loan_Amount_inK INTEGER,\n",
    "Preapproval VARCHAR(25),\n",
    "Action_Type VARCHAR(25),\n",
    "County_Name VARCHAR(50),\n",
    "Applicant_Ethnicity VARCHAR(25),\n",
    "Co_Applicant_Ethnicity VARCHAR(1),\n",
    "Applicant_Race_1 VARCHAR(25),\n",
    "Applicant_Sex VARCHAR(25),\n",
    "Applicant_Income_inK VARCHAR(4),\n",
    "Rate_Spread VARCHAR(5),\n",
    "HOEPA_Status VARCHAR(1),\n",
    "Lien_Status VARCHAR(25),\n",
    "Minority_Population_pct VARCHAR(6),\n",
    "HUD_Median_Family_Income VARCHAR(8),\n",
    "Tract_To_MSAMD_Income_pct VARCHAR(6),\n",
    "Number_of_Owner_occupied_units VARCHAR(8)\n",
    ");\n",
    "\n",
    "\n",
    "insert into lar\n",
    "(Loan_Amount_inK, \n",
    "co_applicant_ethnicity, \n",
    "applicant_income_ink, \n",
    "rate_spread, \n",
    "hoepa_status, \n",
    "minority_population_pct, \n",
    "hud_median_family_income, \n",
    "tract_to_msamd_income_pct, \n",
    "number_of_owner_occupied_units,\n",
    "loan_type, \n",
    "Loan_Purpose,\n",
    "Preapproval,\n",
    "Action_Type,\n",
    "County_Name,\n",
    "Applicant_Ethnicity,\n",
    "Applicant_Race_1,\n",
    "Applicant_Sex,\n",
    "Lien_Status\n",
    ")\n",
    "\n",
    "select lardb1.Loan_Amount_inK, \n",
    "lardb1.co_applicant_ethnicity, \n",
    "lardb1.applicant_income_ink, \n",
    "lardb1.rate_spread, \n",
    "lardb1.hoepa_status, \n",
    "lardb1.minority_population_pct, \n",
    "lardb1.hud_median_family_income, \n",
    "lardb1.tract_to_msamd_income_pct, \n",
    "lardb1.number_of_owner_occupied_units, \n",
    "loantype.value,\n",
    "loanpurpose.value,\n",
    "preapproval.value,\n",
    "action.value,\n",
    "counties.county_name,\n",
    "ethnicity.value,\n",
    "race.value,\n",
    "sex.value,\n",
    "lienstatus.value\n",
    "\n",
    "from lardb1\n",
    "inner join loantype on lardb1.loan_type = loantype.code \n",
    "inner join loanpurpose on lardb1.loan_purpose = loanpurpose.code\n",
    "inner join preapproval on lardb1.preapproval = preapproval.code\n",
    "inner join action on lardb1.action_type = action.code\n",
    "inner join counties on (lardb1.county_code = counties.county_code and lardb1.state_code = counties.state_code)\n",
    "inner join ethnicity on lardb1.applicant_ethnicity = ethnicity.code\n",
    "inner join race on lardb1.applicant_race_1 = race.code\n",
    "inner join sex on lardb1.applicant_sex = sex.code\n",
    "inner join lienstatus on lardb1.lien_status = lienstatus.code\n",
    "\n",
    "where lardb1.state_code = 27\n",
    "and lardb1.property_type = 1 \n",
    "and lardb1.occupancy = 1 \n",
    "and lardb1.action_type <= 4\n",
    "\n",
    "and lardb1.applicant_income_ink not like '%NA%'\n",
    "and lardb1.minority_population_pct not like '%NA%'\n",
    "and lardb1.hud_median_family_income not like '%NA%'\n",
    "and lardb1.tract_to_msamd_income_pct not like '%NA%'\n",
    "and lardb1.number_of_owner_occupied_units not like '%NA%'\n",
    ";\n",
    "\n",
    "\\copy lar to '/home/gpadmin/FINAL_LAB/csv/lar.csv' delimiter ',' csv header"
   ]
  },
  {
   "cell_type": "markdown",
   "metadata": {},
   "source": [
    "## Preparation"
   ]
  },
  {
   "cell_type": "code",
   "execution_count": 1,
   "metadata": {
    "collapsed": true
   },
   "outputs": [],
   "source": [
    "import pandas as pd\n",
    "import numpy as np"
   ]
  },
  {
   "cell_type": "code",
   "execution_count": 2,
   "metadata": {
    "collapsed": false
   },
   "outputs": [
    {
     "name": "stdout",
     "output_type": "stream",
     "text": [
      "(230751, 18)\n"
     ]
    }
   ],
   "source": [
    "data = pd.read_csv('lar.csv')\n",
    "print data.shape"
   ]
  },
  {
   "cell_type": "code",
   "execution_count": 3,
   "metadata": {
    "collapsed": true
   },
   "outputs": [],
   "source": [
    "categorical_columns = ['loan_type',\\\n",
    "                       'loan_purpose',\\\n",
    "                       'preapproval',\\\n",
    "                       'action_type',\\\n",
    "                       'county_name',\\\n",
    "                       'applicant_ethnicity',\\\n",
    "                       'co_applicant_ethnicity',\\\n",
    "                       'lien_status',\\\n",
    "                       'hoepa_status',\n",
    "                       'applicant_race_1',\\\n",
    "                       'applicant_sex']\n",
    "\n",
    "for column in categorical_columns:\n",
    "    data[column] = data[column].astype('category')"
   ]
  },
  {
   "cell_type": "code",
   "execution_count": 4,
   "metadata": {
    "collapsed": false
   },
   "outputs": [],
   "source": [
    "numerical_columns =  ['minority_population_pct',\\\n",
    "                     ['tract_to_msamd_income_pct'],\\\n",
    "                     'hud_median_family_income',\\\n",
    "                     'applicant_income_ink']\n",
    "\n",
    "for column in numerical_columns:\n",
    "    data[column] = data[column].astype(np.float64)"
   ]
  },
  {
   "cell_type": "code",
   "execution_count": 5,
   "metadata": {
    "collapsed": false,
    "scrolled": true
   },
   "outputs": [],
   "source": [
    "data = data[np.isfinite(data['minority_population_pct'])]\n",
    "data = data[np.isfinite(data['tract_to_msamd_income_pct'])]\n",
    "data = data[np.isfinite(data['hud_median_family_income'])]\n",
    "data = data[np.isfinite(data['applicant_income_ink'])]"
   ]
  },
  {
   "cell_type": "code",
   "execution_count": 6,
   "metadata": {
    "collapsed": false
   },
   "outputs": [],
   "source": [
    "data.to_csv('preparation.csv', index=False)"
   ]
  }
 ],
 "metadata": {
  "kernelspec": {
   "display_name": "Python 2",
   "language": "python",
   "name": "python2"
  },
  "language_info": {
   "codemirror_mode": {
    "name": "ipython",
    "version": 2
   },
   "file_extension": ".py",
   "mimetype": "text/x-python",
   "name": "python",
   "nbconvert_exporter": "python",
   "pygments_lexer": "ipython2",
   "version": "2.7.11"
  }
 },
 "nbformat": 4,
 "nbformat_minor": 0
}
