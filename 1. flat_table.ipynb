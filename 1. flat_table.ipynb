{
 "cells": [
  {
   "cell_type": "code",
   "execution_count": 1,
   "metadata": {
    "collapsed": true
   },
   "outputs": [],
   "source": [
    "import pandas as pd\n",
    "import os"
   ]
  },
  {
   "cell_type": "code",
   "execution_count": 4,
   "metadata": {
    "collapsed": false
   },
   "outputs": [],
   "source": [
    "lar = pd.read_csv('source/lardb1.csv')\n",
    "loantype = pd.read_csv('source/loantype.csv')\n",
    "loanpurpose = pd.read_csv('source/loanpurpose.csv')\n",
    "preapproval = pd.read_csv('source/preapproval.csv')\n",
    "action = pd.read_csv('source/action.csv')\n",
    "counties = pd.read_csv('source/counties.csv')\n",
    "ethnicity = pd.read_csv('source/ethnicity.csv')\n",
    "race = pd.read_csv('source/race.csv')\n",
    "sex = pd.read_csv('source/sex.csv')\n",
    "lienstatus = pd.read_csv('source/lienstatus.csv')"
   ]
  },
  {
   "cell_type": "code",
   "execution_count": 5,
   "metadata": {
    "collapsed": false
   },
   "outputs": [],
   "source": [
    "col_tab = [(\"applicant_sex\", sex),\\\n",
    "        (\"applicant_ethnicity\", ethnicity),\\\n",
    "        (\"applicant_race_1\", race),\\\n",
    "        (\"loan_purpose\", loanpurpose),\\\n",
    "        (\"preapproval\", preapproval),\\\n",
    "        (\"loan_type\", loantype),\\\n",
    "        (\"action_type\", action),\\\n",
    "        (\"lien_status\", lienstatus)]"
   ]
  },
  {
   "cell_type": "code",
   "execution_count": null,
   "metadata": {
    "collapsed": false,
    "scrolled": true
   },
   "outputs": [],
   "source": [
    "for column, table in col_tab:\n",
    "    lar = pd.merge(lar, table, left_on=column, right_on='code').\\\n",
    "            drop([column, 'code'], axis=1)\n",
    "    lar.columns = map(lambda x: column if x == 'value' else x, lar.columns)"
   ]
  },
  {
   "cell_type": "code",
   "execution_count": 5,
   "metadata": {
    "collapsed": false
   },
   "outputs": [],
   "source": [
    "columns = [\"loan_type\",\\\n",
    "           \"loan_purpose\",\\\n",
    "           \"loan_amount_ink\",\\\n",
    "           \"preapproval\",\\\n",
    "           \"action_type\",\\\n",
    "           \"county_code\",\\\n",
    "           \"applicant_ethnicity\",\\\n",
    "           \"co_applicant_ethnicity\",\\\n",
    "           \"applicant_race_1\",\\\n",
    "           \"applicant_sex\",\\\n",
    "           \"applicant_income_ink\",\\\n",
    "           \"rate_spread\",\\\n",
    "           \"hoepa_status\",\\\n",
    "           \"lien_status\",\\\n",
    "           \"minority_population_pct\",\\\n",
    "           \"hud_median_family_income\",\\\n",
    "           \"tract_to_msamd_income_pct\",\\\n",
    "           \"number_of_owner_occupied_units\"]"
   ]
  },
  {
   "cell_type": "code",
   "execution_count": 6,
   "metadata": {
    "collapsed": false
   },
   "outputs": [],
   "source": [
    "lar = lar[columns]"
   ]
  },
  {
   "cell_type": "code",
   "execution_count": 8,
   "metadata": {
    "collapsed": false
   },
   "outputs": [],
   "source": [
    "lar.to_csv('lar_flat.csv')"
   ]
  }
 ],
 "metadata": {
  "kernelspec": {
   "display_name": "Python 2",
   "language": "python",
   "name": "python2"
  },
  "language_info": {
   "codemirror_mode": {
    "name": "ipython",
    "version": 2
   },
   "file_extension": ".py",
   "mimetype": "text/x-python",
   "name": "python",
   "nbconvert_exporter": "python",
   "pygments_lexer": "ipython2",
   "version": "2.7.11"
  }
 },
 "nbformat": 4,
 "nbformat_minor": 0
}
